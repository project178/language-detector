{
  "nbformat": 4,
  "nbformat_minor": 0,
  "metadata": {
    "colab": {
      "name": "mp3_to_spectrogram",
      "provenance": [],
      "collapsed_sections": []
    },
    "kernelspec": {
      "name": "python3",
      "display_name": "Python 3"
    }
  },
  "cells": [
    {
      "cell_type": "markdown",
      "metadata": {
        "id": "0R6gY3hzV-00"
      },
      "source": [
        "#**PROJET \"*IDENTIFICATION D'UNE LANGUE*\" RÉALISÉ PAR M. BOROVIKOVA, C. NINEB ET F. AUFFRET**"
      ]
    },
    {
      "cell_type": "markdown",
      "metadata": {
        "id": "kE5t_6ac_eKt"
      },
      "source": [
        "#Installation des modules pré-requis\n",
        "Après l'execution de cette cellule il est impératif de relancer le runtime, si vous utilisez Google Colab."
      ]
    },
    {
      "cell_type": "code",
      "metadata": {
        "id": "GAfUaCdrvejU"
      },
      "source": [
        "%%capture\n",
        "!pip install praat-parselmouth\n",
        "!pip install pandas_ml\n",
        "!pip install scikit-learn==0.21\n",
        "!pip install pandas==0.24.2\n",
        "!pip install ipywidgets"
      ],
      "execution_count": 2,
      "outputs": []
    },
    {
      "cell_type": "markdown",
      "metadata": {
        "id": "tqHax2W4_yx6"
      },
      "source": [
        "#Import des modules nécessaires et désactivation des avertissements"
      ]
    },
    {
      "cell_type": "code",
      "metadata": {
        "id": "g06GuGgF_V0u"
      },
      "source": [
        "import parselmouth\n",
        "import numpy as np\n",
        "import os\n",
        "import matplotlib.pyplot as plt\n",
        "from scipy import interpolate\n",
        "\n",
        "from pandas_ml import ConfusionMatrix\n",
        "import keras\n",
        "from keras.models import Sequential\n",
        "from keras.layers import Dense, Dropout, Flatten\n",
        "from keras.layers import Conv2D, MaxPooling2D\n",
        "from keras.utils.np_utils import to_categorical\n",
        "from tensorflow.keras.callbacks import EarlyStopping, ModelCheckpoint\n",
        "import glob\n",
        "import cv2\n",
        "from ipywidgets import widgets"
      ],
      "execution_count": null,
      "outputs": []
    },
    {
      "cell_type": "markdown",
      "metadata": {
        "id": "BvlJK8dM_-qW"
      },
      "source": [
        "#Prétraitement des fichiers audio\n",
        "Pour utiliser cette partie-là il faut d'abord télécharger des corpus utilisés et de les mettre dans la répértoire \"audio\" chacune dans sa propre répértoire.\n",
        "\n",
        "De plus, vous devriez avoir une bonne volume de RAM. Nous avons lancé cette cellule sur nos propres machines, parce que quand on utilise Google Colab, cela crashe faute de RAM après ≈25 fichiers pour hindi et après ≈40 fichiers pour les autres langues.\n",
        "\n",
        "###*Attention!*\n",
        "Les fichiers audio ne doivent contenir des points dans ses noms (à part ceux qui marquent l'extension).\n",
        "\n",
        "*Par exemple, \"my_audio.wav\" est un nom valide, alors que \"my.audio.mp3\" ne l'est pas.*\n"
      ]
    },
    {
      "cell_type": "code",
      "metadata": {
        "id": "mq9ATs81PAv0"
      },
      "source": [
        "# remplacer des zéros de numpy array pour prévenir \"divide by Zero Warning\" en utilisant une fonction log\n",
        "def replaceZeroes(data):\n",
        "  data[data == 0] = np.min(data[np.nonzero(data)])\n",
        "  return data\n",
        "\n",
        "\n",
        "## transformation des audios en spectrogrammes\n",
        "def audio2spectro(audio, spectrodir=\"imagesSpectros\", max_freq=8000, inches_size=(0.25, 0.25), dpi=200):\n",
        "  snd=parselmouth.Sound(audio)\n",
        "  spectrogram = snd.to_spectrogram(maximum_frequency=max_freq)\n",
        "  X, Y = spectrogram.x_grid(), spectrogram.y_grid()\n",
        "  Xbins, Ybins = spectrogram.x_bins(), spectrogram.y_bins()\n",
        "  Ymid = np.column_stack((Ybins[:,0],np.diff(Ybins,axis=1)/2)).sum(axis=1)\n",
        "  sg_db = 10 * np.where(spectrogram.values > 0.0000000001, np.log10(replaceZeroes(spectrogram.values)), -10)\n",
        "  fig = plt.figure(frameon=False)\n",
        "  fig.set_size_inches(inches_size[0], inches_size[1])\n",
        "  ax = plt.Axes(fig, [0., 0., 1., 1.])\n",
        "  ax.set_axis_off()\n",
        "  fig.add_axes(ax)\n",
        "\n",
        "\n",
        "  sg_bd_interp = interpolate.RectBivariateSpline(np.column_stack((Xbins[:,0],np.diff(Xbins,axis=1)/2)).sum(axis=1), Ymid, sg_db.T)(np.linspace(X[0], X[-1], 10*len(X)), np.linspace(Y[0], Y[-1], 10*len(Y))).T\n",
        "\n",
        "  # add min value in image on the right of the image if zero_padding_width_ratio is over 0 and below 1\n",
        "  zero_padding_width_ratio=(2-snd.get_total_duration())/2\n",
        "  if 0 < zero_padding_width_ratio < 1:\n",
        "    value_for_zero_padding=np.min(sg_bd_interp)\n",
        "    zero_padded_sg_bd_interp = np.concatenate((sg_bd_interp,np.ones((sg_bd_interp.shape[0], int(np.round(sg_bd_interp.shape[1] * zero_padding_width_ratio / (1 - zero_padding_width_ratio)))))*value_for_zero_padding), axis = 1)\n",
        "  else:\n",
        "    zero_padded_sg_bd_interp = sg_bd_interp\n",
        "\n",
        "  ax.imshow(zero_padded_sg_bd_interp, aspect=\"auto\", cmap=\"gray_r\", vmin=sg_db.max() - 70, vmax=None)\n",
        "  fig.savefig(spectrodir+\"/\"+audio[audio.rindex(\"/\")+1:audio.index(\".\")]+\"png\", dpi = dpi)\n",
        "  plt.close(fig)  "
      ],
      "execution_count": null,
      "outputs": []
    },
    {
      "cell_type": "markdown",
      "metadata": {
        "id": "NBaI-l5JZbdx"
      },
      "source": [
        "#Préparation des données pour la réseau de neurones"
      ]
    },
    {
      "cell_type": "code",
      "metadata": {
        "id": "u7ySY3WkkHYq"
      },
      "source": [
        "\"\"\"\n",
        "construction du dataset pour l'entraînement,\n",
        "l'argument path attends un chemin vers des spectrogrammes,\n",
        "l'argument test attends un pourcentage des exemples utilisés pour le test\n",
        "\"\"\"\n",
        "def get_data(path = \"imagesSpectros\", test=10):\n",
        "  x_1, y_1, x_2, y_2 = [], [], [], []\n",
        "  border = 6*test\n",
        "  i = 0\n",
        "  for lang in glob.glob(path+'/*'):\n",
        "    print(lang)\n",
        "    c = 0\n",
        "    for img_path in glob.glob(lang+\"/*\"):\n",
        "      transform_data(img_path)\n",
        "      c += 1\n",
        "      if c <= border:\n",
        "        x_2.append(img)\n",
        "        y_2.append(i)\n",
        "      else:\n",
        "        x_1.append(img)\n",
        "        y_1.append(i)\n",
        "    i += 1\n",
        "  x_train, y_train = transform_data(x_1, y_1)\n",
        "  x_test, y_test = transform_data(x_2, y_2)\n",
        "  del x_1, y_1, x_2, y_2\n",
        "  return x_train, y_train, x_test, y_test"
      ],
      "execution_count": null,
      "outputs": []
    },
    {
      "cell_type": "code",
      "metadata": {
        "id": "AuTSyLOch5nu"
      },
      "source": [
        "#transformation d'une seule spectrogramme en array avec la forme (50, 50)\n",
        "def transform_img(x):\n",
        "  img = cv2.imread(x, 0).astype(np.uint8)\n",
        "  img = cv2.resize(img, (50, 50))\n",
        "  return img"
      ],
      "execution_count": null,
      "outputs": []
    },
    {
      "cell_type": "code",
      "metadata": {
        "id": "PEGE1fCWk3i8"
      },
      "source": [
        "#transformation de toutes les données en numpy array convenable pour l'apprentissage du réseau ci-dessous\n",
        "def transform_data(x, y):\n",
        "  return np.asarray(x).reshape(-1, 50, 50, 1).astype(\"float32\")/255, to_categorical(np.array(y).reshape(-1, 1))"
      ],
      "execution_count": null,
      "outputs": []
    },
    {
      "cell_type": "markdown",
      "metadata": {
        "id": "0DAajp8GZo0F"
      },
      "source": [
        "#Construction de la réseau convolutive"
      ]
    },
    {
      "cell_type": "code",
      "metadata": {
        "id": "e2Do6Y3oORfe"
      },
      "source": [
        "def train(x_train, y_train, x_test, y_test, path_to_save =  \"models\", num_classes = 4, epochs = 10, batch_size=4):\n",
        "  model = Sequential()\n",
        "  model.add(Conv2D(32, kernel_size=(3, 3), activation='relu', input_shape=(50, 50, 1)))\n",
        "  model.add(Conv2D(64, kernel_size=(3, 3), activation='relu'))\n",
        "  model.add(MaxPooling2D(pool_size=(2, 2)))\n",
        "  model.add(Dropout(0.25))\n",
        "  model.add(Flatten())\n",
        "  model.add(Dense(128, activation='relu'))\n",
        "  model.add(Dropout(0.5))\n",
        "  model.add(Dense(num_classes, activation='softmax'))\n",
        "\n",
        "\n",
        "  model.compile(loss=keras.losses.categorical_crossentropy,\n",
        "                optimizer=keras.optimizers.Adam(),\n",
        "                metrics=['categorical_accuracy', ])\n",
        "\n",
        "\n",
        "  history = model.fit(x_train, y_train,\n",
        "            validation_data=(x_test, y_test),\n",
        "            epochs=epochs,\n",
        "            shuffle=True,\n",
        "            batch_size=batch_size,\n",
        "            verbose=1,\n",
        "            callbacks=[EarlyStopping(monitor='val_categorical_accuracy', mode='max', verbose=1, patience=3), ModelCheckpoint('models/best_loss.h5', monitor='val_loss', mode='min', save_best_only=True), ModelCheckpoint('models/best_acc.h5', monitor='val_categorical_accuracy', mode='max', save_best_only=True)])\n",
        "  model.save(path_to_save)\n",
        "  score = model.evaluate(x_test, y_test, verbose=0)\n",
        "  print('Test loss:', score[0])\n",
        "  print('Test accuracy:', score[1])\n",
        "  return history"
      ],
      "execution_count": null,
      "outputs": []
    },
    {
      "cell_type": "markdown",
      "metadata": {
        "id": "lJme-kpjhGjJ"
      },
      "source": [
        "#L'execution de toutes les fonctions"
      ]
    },
    {
      "cell_type": "code",
      "metadata": {
        "colab": {
          "base_uri": "https://localhost:8080/"
        },
        "id": "4aKx1TGhzcci",
        "outputId": "d0840eee-15aa-4d73-f571-82659824149f"
      },
      "source": [
        "for targetdir in (\"fr\", \"ar\", \"ru\", \"hi\"):\n",
        "    for path in os.listdir(targetdir):\n",
        "      audio2spectro(\"audio/\"+targetdir+\"/\"+path, spectrodir=\"imagesSpectros/\"+targetdir)\n",
        "x_train, y_train, x_test, y_test = get_data()\n",
        "m = train(x_train, y_train, x_test, y_test)"
      ],
      "execution_count": null,
      "outputs": [
        {
          "output_type": "stream",
          "text": [
            "Epoch 1/60\n",
            "540/540 [==============================] - 45s 82ms/step - loss: 1.3941 - categorical_accuracy: 0.3148 - val_loss: 1.2008 - val_categorical_accuracy: 0.4708\n",
            "Epoch 2/60\n",
            "540/540 [==============================] - 44s 82ms/step - loss: 0.9542 - categorical_accuracy: 0.5952 - val_loss: 1.2421 - val_categorical_accuracy: 0.4708\n",
            "Epoch 3/60\n",
            "540/540 [==============================] - 44s 82ms/step - loss: 0.8469 - categorical_accuracy: 0.6280 - val_loss: 1.3522 - val_categorical_accuracy: 0.4625\n",
            "Epoch 4/60\n",
            "540/540 [==============================] - 44s 81ms/step - loss: 0.7396 - categorical_accuracy: 0.6818 - val_loss: 1.2768 - val_categorical_accuracy: 0.5292\n",
            "Epoch 5/60\n",
            "540/540 [==============================] - 44s 82ms/step - loss: 0.6841 - categorical_accuracy: 0.7223 - val_loss: 1.3403 - val_categorical_accuracy: 0.4917\n",
            "Epoch 6/60\n",
            "540/540 [==============================] - 45s 84ms/step - loss: 0.6085 - categorical_accuracy: 0.7386 - val_loss: 1.2549 - val_categorical_accuracy: 0.5292\n",
            "Epoch 7/60\n",
            "540/540 [==============================] - 44s 81ms/step - loss: 0.5942 - categorical_accuracy: 0.7574 - val_loss: 1.3991 - val_categorical_accuracy: 0.5375\n",
            "Epoch 8/60\n",
            "540/540 [==============================] - 44s 82ms/step - loss: 0.5221 - categorical_accuracy: 0.8088 - val_loss: 1.4858 - val_categorical_accuracy: 0.5458\n",
            "Epoch 9/60\n",
            "540/540 [==============================] - 44s 82ms/step - loss: 0.4359 - categorical_accuracy: 0.8254 - val_loss: 1.4653 - val_categorical_accuracy: 0.5625\n",
            "Epoch 10/60\n",
            "540/540 [==============================] - 44s 81ms/step - loss: 0.4268 - categorical_accuracy: 0.8322 - val_loss: 1.6098 - val_categorical_accuracy: 0.5542\n",
            "Epoch 11/60\n",
            "540/540 [==============================] - 44s 81ms/step - loss: 0.3498 - categorical_accuracy: 0.8708 - val_loss: 1.4862 - val_categorical_accuracy: 0.5500\n",
            "Epoch 12/60\n",
            "540/540 [==============================] - 44s 81ms/step - loss: 0.3543 - categorical_accuracy: 0.8706 - val_loss: 1.4271 - val_categorical_accuracy: 0.5833\n",
            "Epoch 13/60\n",
            "540/540 [==============================] - 44s 82ms/step - loss: 0.3175 - categorical_accuracy: 0.8735 - val_loss: 1.4991 - val_categorical_accuracy: 0.5542\n",
            "Epoch 14/60\n",
            "540/540 [==============================] - 44s 82ms/step - loss: 0.3157 - categorical_accuracy: 0.8858 - val_loss: 1.6052 - val_categorical_accuracy: 0.5583\n",
            "Epoch 15/60\n",
            "540/540 [==============================] - 44s 82ms/step - loss: 0.2972 - categorical_accuracy: 0.8816 - val_loss: 2.2230 - val_categorical_accuracy: 0.5375\n",
            "Epoch 16/60\n",
            "540/540 [==============================] - 45s 83ms/step - loss: 0.2879 - categorical_accuracy: 0.8868 - val_loss: 1.6141 - val_categorical_accuracy: 0.5625\n",
            "Epoch 17/60\n",
            "540/540 [==============================] - 44s 82ms/step - loss: 0.2478 - categorical_accuracy: 0.9057 - val_loss: 2.0450 - val_categorical_accuracy: 0.5667\n",
            "Epoch 18/60\n",
            "540/540 [==============================] - 44s 82ms/step - loss: 0.2317 - categorical_accuracy: 0.9090 - val_loss: 2.0192 - val_categorical_accuracy: 0.5750\n",
            "Epoch 19/60\n",
            "540/540 [==============================] - 44s 82ms/step - loss: 0.2250 - categorical_accuracy: 0.9095 - val_loss: 2.0185 - val_categorical_accuracy: 0.5875\n",
            "Epoch 20/60\n",
            "540/540 [==============================] - 45s 84ms/step - loss: 0.2334 - categorical_accuracy: 0.9055 - val_loss: 1.8141 - val_categorical_accuracy: 0.6042\n",
            "Epoch 21/60\n",
            "540/540 [==============================] - 44s 82ms/step - loss: 0.2130 - categorical_accuracy: 0.9258 - val_loss: 2.1122 - val_categorical_accuracy: 0.5500\n",
            "Epoch 22/60\n",
            "540/540 [==============================] - 45s 83ms/step - loss: 0.1994 - categorical_accuracy: 0.9190 - val_loss: 1.8808 - val_categorical_accuracy: 0.6083\n",
            "Epoch 23/60\n",
            "540/540 [==============================] - 44s 82ms/step - loss: 0.1650 - categorical_accuracy: 0.9407 - val_loss: 2.3385 - val_categorical_accuracy: 0.5583\n",
            "Epoch 24/60\n",
            "540/540 [==============================] - 44s 82ms/step - loss: 0.1898 - categorical_accuracy: 0.9288 - val_loss: 2.2361 - val_categorical_accuracy: 0.5792\n",
            "Epoch 25/60\n",
            "540/540 [==============================] - 44s 82ms/step - loss: 0.1629 - categorical_accuracy: 0.9350 - val_loss: 2.4208 - val_categorical_accuracy: 0.5833\n",
            "Epoch 26/60\n",
            "540/540 [==============================] - 44s 81ms/step - loss: 0.1647 - categorical_accuracy: 0.9411 - val_loss: 2.2217 - val_categorical_accuracy: 0.5667\n",
            "Epoch 27/60\n",
            "540/540 [==============================] - 44s 81ms/step - loss: 0.1655 - categorical_accuracy: 0.9410 - val_loss: 2.3801 - val_categorical_accuracy: 0.6000\n",
            "Epoch 28/60\n",
            "540/540 [==============================] - 44s 81ms/step - loss: 0.1450 - categorical_accuracy: 0.9551 - val_loss: 2.1742 - val_categorical_accuracy: 0.6167\n",
            "Epoch 29/60\n",
            "540/540 [==============================] - 44s 81ms/step - loss: 0.1393 - categorical_accuracy: 0.9537 - val_loss: 2.5174 - val_categorical_accuracy: 0.5833\n",
            "Epoch 30/60\n",
            "540/540 [==============================] - 44s 81ms/step - loss: 0.1555 - categorical_accuracy: 0.9459 - val_loss: 2.0280 - val_categorical_accuracy: 0.5958\n",
            "Epoch 31/60\n",
            "540/540 [==============================] - 44s 81ms/step - loss: 0.1260 - categorical_accuracy: 0.9608 - val_loss: 2.6876 - val_categorical_accuracy: 0.5917\n",
            "Epoch 32/60\n",
            "540/540 [==============================] - 44s 81ms/step - loss: 0.1293 - categorical_accuracy: 0.9529 - val_loss: 2.5862 - val_categorical_accuracy: 0.6125\n",
            "Epoch 33/60\n",
            "540/540 [==============================] - 45s 83ms/step - loss: 0.1445 - categorical_accuracy: 0.9493 - val_loss: 2.3891 - val_categorical_accuracy: 0.6125\n",
            "Epoch 34/60\n",
            "540/540 [==============================] - 44s 82ms/step - loss: 0.1336 - categorical_accuracy: 0.9525 - val_loss: 2.4764 - val_categorical_accuracy: 0.5750\n",
            "Epoch 35/60\n",
            "540/540 [==============================] - 44s 82ms/step - loss: 0.1313 - categorical_accuracy: 0.9549 - val_loss: 2.7968 - val_categorical_accuracy: 0.5542\n",
            "Epoch 36/60\n",
            "540/540 [==============================] - 44s 81ms/step - loss: 0.1280 - categorical_accuracy: 0.9592 - val_loss: 2.6199 - val_categorical_accuracy: 0.6333\n",
            "Epoch 37/60\n",
            "540/540 [==============================] - 44s 82ms/step - loss: 0.1222 - categorical_accuracy: 0.9581 - val_loss: 2.7377 - val_categorical_accuracy: 0.5625\n",
            "Epoch 38/60\n",
            "540/540 [==============================] - 44s 81ms/step - loss: 0.1367 - categorical_accuracy: 0.9459 - val_loss: 2.6797 - val_categorical_accuracy: 0.5833\n",
            "Epoch 39/60\n",
            "540/540 [==============================] - 44s 82ms/step - loss: 0.1021 - categorical_accuracy: 0.9649 - val_loss: 2.3300 - val_categorical_accuracy: 0.5583\n",
            "Epoch 40/60\n",
            "540/540 [==============================] - 44s 82ms/step - loss: 0.1028 - categorical_accuracy: 0.9601 - val_loss: 2.8089 - val_categorical_accuracy: 0.6125\n",
            "Epoch 41/60\n",
            "540/540 [==============================] - 44s 82ms/step - loss: 0.1007 - categorical_accuracy: 0.9654 - val_loss: 2.9968 - val_categorical_accuracy: 0.5917\n",
            "Epoch 42/60\n",
            "540/540 [==============================] - 44s 81ms/step - loss: 0.0944 - categorical_accuracy: 0.9636 - val_loss: 3.4676 - val_categorical_accuracy: 0.5792\n",
            "Epoch 43/60\n",
            "540/540 [==============================] - 44s 82ms/step - loss: 0.0695 - categorical_accuracy: 0.9714 - val_loss: 2.3647 - val_categorical_accuracy: 0.5625\n",
            "Epoch 44/60\n",
            "540/540 [==============================] - 44s 82ms/step - loss: 0.0935 - categorical_accuracy: 0.9672 - val_loss: 2.6240 - val_categorical_accuracy: 0.5958\n",
            "Epoch 45/60\n",
            "540/540 [==============================] - 44s 82ms/step - loss: 0.0968 - categorical_accuracy: 0.9600 - val_loss: 3.3850 - val_categorical_accuracy: 0.5958\n",
            "Epoch 46/60\n",
            "540/540 [==============================] - 44s 81ms/step - loss: 0.0857 - categorical_accuracy: 0.9694 - val_loss: 2.7380 - val_categorical_accuracy: 0.5500\n",
            "Epoch 47/60\n",
            "540/540 [==============================] - 45s 83ms/step - loss: 0.1086 - categorical_accuracy: 0.9593 - val_loss: 2.6790 - val_categorical_accuracy: 0.5875\n",
            "Epoch 48/60\n",
            "540/540 [==============================] - 44s 81ms/step - loss: 0.0824 - categorical_accuracy: 0.9707 - val_loss: 2.8090 - val_categorical_accuracy: 0.5625\n",
            "Epoch 49/60\n",
            "540/540 [==============================] - 44s 81ms/step - loss: 0.0963 - categorical_accuracy: 0.9665 - val_loss: 2.6438 - val_categorical_accuracy: 0.5708\n",
            "Epoch 50/60\n",
            "540/540 [==============================] - 44s 82ms/step - loss: 0.1321 - categorical_accuracy: 0.9640 - val_loss: 3.0895 - val_categorical_accuracy: 0.5792\n",
            "Epoch 51/60\n",
            "540/540 [==============================] - 44s 82ms/step - loss: 0.1037 - categorical_accuracy: 0.9667 - val_loss: 2.8927 - val_categorical_accuracy: 0.6000\n",
            "Epoch 52/60\n",
            "540/540 [==============================] - 44s 81ms/step - loss: 0.1060 - categorical_accuracy: 0.9597 - val_loss: 2.4889 - val_categorical_accuracy: 0.6042\n",
            "Epoch 53/60\n",
            "540/540 [==============================] - 44s 81ms/step - loss: 0.1052 - categorical_accuracy: 0.9590 - val_loss: 3.1083 - val_categorical_accuracy: 0.5583\n",
            "Epoch 54/60\n",
            "540/540 [==============================] - 44s 81ms/step - loss: 0.0950 - categorical_accuracy: 0.9650 - val_loss: 3.3174 - val_categorical_accuracy: 0.5917\n",
            "Epoch 55/60\n",
            "540/540 [==============================] - 44s 81ms/step - loss: 0.0881 - categorical_accuracy: 0.9714 - val_loss: 3.5002 - val_categorical_accuracy: 0.5833\n",
            "Epoch 56/60\n",
            "540/540 [==============================] - 44s 82ms/step - loss: 0.0654 - categorical_accuracy: 0.9761 - val_loss: 3.0651 - val_categorical_accuracy: 0.5750\n",
            "Epoch 00056: early stopping\n",
            "INFO:tensorflow:Assets written to: /content/drive/My Drive/scripts/assets\n",
            "Test loss: 3.0650906562805176\n",
            "Test accuracy: 0.574999988079071\n"
          ],
          "name": "stdout"
        }
      ]
    },
    {
      "cell_type": "markdown",
      "metadata": {
        "id": "BZOSOEFFhiHv"
      },
      "source": [
        "#Évaluation des résultats"
      ]
    },
    {
      "cell_type": "code",
      "metadata": {
        "id": "bARpR2jXcznf"
      },
      "source": [
        "#chargement des modèles\n",
        "model_last = keras.models.load_model('models/saved_model.pb')\n",
        "model_acc = keras.models.load_model('models/best_acc.h5')\n",
        "model_loss = keras.models.load_model('models/best_loss.h5')"
      ],
      "execution_count": null,
      "outputs": []
    },
    {
      "cell_type": "code",
      "metadata": {
        "colab": {
          "base_uri": "https://localhost:8080/"
        },
        "id": "8GbrOhY8zccn",
        "outputId": "ae700595-155a-46df-d839-1dad47d74894"
      },
      "source": [
        "#La qualité du dernier modèle\n",
        "score = model_last.evaluate(x_test, y_test, verbose=0)\n",
        "print('Test loss:', score[0])\n",
        "print('Test accuracy:', score[1])\n",
        "\n",
        "#La qualité du modèle avec la plus haute accuracy\n",
        "score = model_acc.evaluate(x_test, y_test, verbose=0)\n",
        "print('Test loss:', score[0])\n",
        "print('Test accuracy:', score[1])\n",
        "\n",
        "#La qualité du modèle avec le loss le plus bas\n",
        "score = model_loss.evaluate(x_test, y_test, verbose=0)\n",
        "print('Test loss:', score[0])\n",
        "print('Test accuracy:', score[1])"
      ],
      "execution_count": null,
      "outputs": [
        {
          "output_type": "stream",
          "text": [
            "Test loss: 3.0650906562805176\n",
            "Test accuracy: 0.574999988079071\n",
            "Test loss: 2.6199047565460205\n",
            "Test accuracy: 0.6333333253860474\n",
            "Test loss: 1.200844645500183\n",
            "Test accuracy: 0.47083333134651184\n"
          ],
          "name": "stdout"
        }
      ]
    },
    {
      "cell_type": "code",
      "metadata": {
        "colab": {
          "base_uri": "https://localhost:8080/",
          "height": 295
        },
        "id": "wrHSMCHR0IGp",
        "outputId": "35b7bede-99d5-4b89-df93-a908acf8837b"
      },
      "source": [
        "#évaluation de l'accuracy\n",
        "plt.plot(m.history['categorical_accuracy'])\n",
        "plt.plot(m.history['val_categorical_accuracy'])\n",
        "plt.title(\"model accuracy\")\n",
        "plt.ylabel(\"Accuracy\")\n",
        "plt.xlabel(\"Epoch\")\n",
        "plt.legend([\"Accuracy\", \"Validation Accuracy\"])\n",
        "plt.show()"
      ],
      "execution_count": null,
      "outputs": [
        {
          "output_type": "display_data",
          "data": {
            "image/png": "[encoded data removed]",
            "text/plain": [
              "<Figure size 432x288 with 1 Axes>"
            ]
          },
          "metadata": {
            "tags": [],
            "needs_background": "light"
          }
        }
      ]
    },
    {
      "cell_type": "code",
      "metadata": {
        "colab": {
          "base_uri": "https://localhost:8080/",
          "height": 295
        },
        "id": "b3btKlCOgAkD",
        "outputId": "02752ed7-3dde-4fcc-f9a6-49c1b022861b"
      },
      "source": [
        "#évaluation du loss\n",
        "plt.plot(m.history['loss'])\n",
        "plt.plot(m.history['val_loss'])\n",
        "plt.title(\"model loss\")\n",
        "plt.ylabel(\"Accuracy\")\n",
        "plt.xlabel(\"Epoch\")\n",
        "plt.legend([\"Loss\", \"Validation Loss\"])\n",
        "plt.show()"
      ],
      "execution_count": null,
      "outputs": [
        {
          "output_type": "display_data",
          "data": {
            "image/png": "[encoded data removed]",
            "text/plain": [
              "<Figure size 432x288 with 1 Axes>"
            ]
          },
          "metadata": {
            "tags": [],
            "needs_background": "light"
          }
        }
      ]
    },
    {
      "cell_type": "code",
      "metadata": {
        "colab": {
          "base_uri": "https://localhost:8080/",
          "height": 498
        },
        "id": "OdhtH2DjEc7V",
        "outputId": "6de56775-9eea-47ba-9580-313330e0df06"
      },
      "source": [
        "#0 - russe, 1 - arabe, 2 - hindi, 3 - français\n",
        "predictions = model_acc.predict(np.array(x_test))\n",
        "ConfusionMatrix(np.array(y_test.argmax(axis=1)), predictions.argmax(axis=1)).plot().axis('on')"
      ],
      "execution_count": null,
      "outputs": [
        {
          "output_type": "execute_result",
          "data": {
            "text/plain": [
              "(-0.5, 3.5, 3.5, -0.5)"
            ]
          },
          "metadata": {
            "tags": []
          },
          "execution_count": 106
        },
        {
          "output_type": "display_data",
          "data": {
            "image/png": "[encoded data removed]",
            "text/plain": [
              "<Figure size 648x576 with 2 Axes>"
            ]
          },
          "metadata": {
            "tags": [],
            "needs_background": "light"
          }
        }
      ]
    },
    {
      "cell_type": "markdown",
      "metadata": {
        "id": "Ys99uR-4n0xF"
      },
      "source": [
        "#Conclusion\n",
        "Le meilleur modèle prédit des bonnes labels en 60% des cas. Des expériences nous montrent que l'apprentissage se términe après 10-15 époques. Selon la matrix de confusion, on pourrait dire que la langue française se reconnait par un réseau mieux que les autres langues. Cela peut être expliqué par la présence des sons nasals. "
      ]
    },
    {
      "cell_type": "markdown",
      "metadata": {
        "id": "mXklqeSngo2m"
      },
      "source": [
        "##P.S. Testez vous-mêmes\n",
        "\n",
        "###*Attention!*\n",
        "\n",
        "Si vous téléversez des fichiers avec des paramétres différents (fréquence distincte de 8000, extension distinct de mp3, etc.), bien sûr que la qualité des prédictions baisse."
      ]
    },
    {
      "cell_type": "code",
      "metadata": {
        "colab": {
          "base_uri": "https://localhost:8080/",
          "height": 48,
          "referenced_widgets": [
            "f97d9a30f44f497fa7ed55e32a884aa1",
            "7763d4e4ab8148a9a009c7ecd4ce5f38",
            "413fddb3625844f5bf6c346a6cc62350"
          ]
        },
        "id": "yGfZaOwszpZr",
        "outputId": "7c737fff-c906-457c-b7e1-b6fbae6fa281"
      },
      "source": [
        "#téléversez un/des fichier(s) mp3 ou wav\n",
        "audio_files = widgets.FileUpload(accept='.mp3,.wav', multiple=True)\n",
        "audio_files"
      ],
      "execution_count": null,
      "outputs": [
        {
          "output_type": "display_data",
          "data": {
            "application/vnd.jupyter.widget-view+json": {
              "model_id": "f97d9a30f44f497fa7ed55e32a884aa1",
              "version_minor": 0,
              "version_major": 2
            },
            "text/plain": [
              "FileUpload(value={}, accept='.mp3,.wav', description='Upload', multiple=True)"
            ]
          },
          "metadata": {
            "tags": []
          }
        }
      ]
    },
    {
      "cell_type": "code",
      "metadata": {
        "id": "j4KdGYhOAFaU"
      },
      "source": [
        "#donnez au Python un accès à ces fichiers\n",
        "if \"user_data\" not in os.listdir(): os.mkdir(\"user_data\")\n",
        "if \"audio\" not in os.listdir(\"user_data\"): os.mkdir(\"user_data/audio\")\n",
        "for audio_file in audio_files.value.values():\n",
        "  with open(\"user_data/audio/\"+audio_file[\"metadata\"][\"name\"], \"wb\") as out: out.write(audio_file[\"content\"])"
      ],
      "execution_count": null,
      "outputs": []
    },
    {
      "cell_type": "code",
      "metadata": {
        "colab": {
          "base_uri": "https://localhost:8080/"
        },
        "id": "bFGUblFbMfSy",
        "outputId": "2a5d0429-2eae-450b-a419-11c877fba554"
      },
      "source": [
        "#regardez le résultat\n",
        "os.chdir(\"user_data\")\n",
        "if \"spectros\" not in os.listdir(): os.mkdir(\"spectros\")\n",
        "for audio in list(filter(lambda x: x[-4:] in [\".mp3\", \".wav\"], os.listdir(\"audio\"))): audio2spectro(audio=\"audio/\"+audio, spectrodir=\"spectros\")\n",
        "os.chdir(\"spectros\")\n",
        "x, y = [], []\n",
        "for img in list(filter(lambda x: x[-4:] == \".png\",os.listdir())):\n",
        "  x.append(transform_img(img))\n",
        "  y.append(img)\n",
        "x, _ = transform_data(x, [0])\n",
        "model = keras.models.load_model('/content/language-detector/models')\n",
        "classes = {0:\"russe\", 1:\"arabe\", 2:\"hindi\", 3:\"français\"}\n",
        "for pred, f in zip(model.predict_classes(x), y):\n",
        "  print(\"Selon le modèle, une personne du fichier\", f[:f.index(\".\")], \"parle\", classes[pred], sep=\" \")\n",
        "os.chdir(\"/content\")"
      ],
      "execution_count": null,
      "outputs": [
        {
          "output_type": "stream",
          "text": [
            "\n",
            "\n",
            "\n",
            "\n",
            "WARNING:tensorflow:11 out of the last 11 calls to <function Model.make_predict_function.<locals>.predict_function at 0x7f4d0b596e18> triggered tf.function retracing. Tracing is expensive and the excessive number of tracings could be due to (1) creating @tf.function repeatedly in a loop, (2) passing tensors with different shapes, (3) passing Python objects instead of tensors. For (1), please define your @tf.function outside of the loop. For (2), @tf.function has experimental_relax_shapes=True option that relaxes argument shapes that can avoid unnecessary retracing. For (3), please refer to https://www.tensorflow.org/guide/function#controlling_retracing and https://www.tensorflow.org/api_docs/python/tf/function for  more details.\n",
            "Selon le modèle, une personne du fichier français_test parle français\n",
            "Selon le modèle, une personne du fichier hindi_test parle hindi\n",
            "Selon le modèle, une personne du fichier arabe_test parle français\n",
            "Selon le modèle, une personne du fichier russe_test parle russe\n"
          ],
          "name": "stdout"
        }
      ]
    }
  ]
}